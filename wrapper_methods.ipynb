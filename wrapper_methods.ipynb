{
 "cells": [
  {
   "cell_type": "code",
   "execution_count": null,
   "metadata": {},
   "outputs": [],
   "source": []
  },
  {
   "cell_type": "markdown",
   "metadata": {},
   "source": [
    "## Introduction to Wrapper Methods\n",
    "Machine learning problems often involve datasets with many features. Some of those features might be very important for a specific machine learning model. Other features might be irrelevant. Given a feature set and a model, we would like to be able to distinguish between important and unimportant features (or even important combinations of features). Wrapper methods do exactly that.\n",
    "\n",
    "A wrapper method for feature selection is an algorithm that selects features by evaluating the performance of a machine learning model on different subsets of features. These algorithms add or remove features one at a time based on how useful those features are to the model.\n",
    "\n",
    "Wrapper methods have some advantages over filter methods. The main advantage is that wrapper methods evaluate features based on their performance with a specific model. Filter methods, on the other hand, can’t tell how important a feature is to a model.\n",
    "\n",
    "Another upside of wrapper methods is that they can take into account relationships between features. Sometimes certain features aren’t very useful on their own but instead perform well only when combined with other features. Since wrapper methods test subsets of features, they can account for those situations.\n",
    "\n",
    "This lesson will explain five different wrapper methods:\n",
    "\n",
    "Sequential forward selection\n",
    "Sequential backward selection\n",
    "Sequential forward floating selection\n",
    "Sequential backward floating selection\n",
    "Recursive feature elimination\n",
    "You’ll learn how to implement these algorithms in Python and evaluate the results.\n",
    "\n",
    "Before we get started, let’s take a look at a dataset that you’ll use throughout this lesson.\n",
    "\n",
    "Instructions\n",
    "\n",
    "The data in the workspace was taken from the UCI Machine Learning Repository. The outcome variable, Classification, is a 1 if a patient has breast cancer and a 0 if not. The features are Age, BMI (body mass index), Glucose, Insulin, HOMA (homeostatic model assessment, a measure of insulin resistance), as well as four different protein levels: Leptin, Adiponectin, Resistin, and MCP.1.\n",
    "\n",
    "Uncomment print(health.head()) and take a look at the data.\n",
    "\n",
    "What are some pros and cons of having this many features?"
   ]
  },
  {
   "cell_type": "code",
   "execution_count": 2,
   "metadata": {},
   "outputs": [
    {
     "data": {
      "text/html": [
       "<div>\n",
       "<style scoped>\n",
       "    .dataframe tbody tr th:only-of-type {\n",
       "        vertical-align: middle;\n",
       "    }\n",
       "\n",
       "    .dataframe tbody tr th {\n",
       "        vertical-align: top;\n",
       "    }\n",
       "\n",
       "    .dataframe thead th {\n",
       "        text-align: right;\n",
       "    }\n",
       "</style>\n",
       "<table border=\"1\" class=\"dataframe\">\n",
       "  <thead>\n",
       "    <tr style=\"text-align: right;\">\n",
       "      <th></th>\n",
       "      <th>Age</th>\n",
       "      <th>BMI</th>\n",
       "      <th>Glucose</th>\n",
       "      <th>Insulin</th>\n",
       "      <th>HOMA</th>\n",
       "      <th>Leptin</th>\n",
       "      <th>Adiponectin</th>\n",
       "      <th>Resistin</th>\n",
       "      <th>MCP.1</th>\n",
       "      <th>Classification</th>\n",
       "    </tr>\n",
       "  </thead>\n",
       "  <tbody>\n",
       "    <tr>\n",
       "      <th>0</th>\n",
       "      <td>48</td>\n",
       "      <td>23.500000</td>\n",
       "      <td>70</td>\n",
       "      <td>2.707</td>\n",
       "      <td>0.467409</td>\n",
       "      <td>8.8071</td>\n",
       "      <td>9.702400</td>\n",
       "      <td>7.99585</td>\n",
       "      <td>417.114</td>\n",
       "      <td>1</td>\n",
       "    </tr>\n",
       "    <tr>\n",
       "      <th>1</th>\n",
       "      <td>83</td>\n",
       "      <td>20.690495</td>\n",
       "      <td>92</td>\n",
       "      <td>3.115</td>\n",
       "      <td>0.706897</td>\n",
       "      <td>8.8438</td>\n",
       "      <td>5.429285</td>\n",
       "      <td>4.06405</td>\n",
       "      <td>468.786</td>\n",
       "      <td>1</td>\n",
       "    </tr>\n",
       "    <tr>\n",
       "      <th>2</th>\n",
       "      <td>82</td>\n",
       "      <td>23.124670</td>\n",
       "      <td>91</td>\n",
       "      <td>4.498</td>\n",
       "      <td>1.009651</td>\n",
       "      <td>17.9393</td>\n",
       "      <td>22.432040</td>\n",
       "      <td>9.27715</td>\n",
       "      <td>554.697</td>\n",
       "      <td>1</td>\n",
       "    </tr>\n",
       "    <tr>\n",
       "      <th>3</th>\n",
       "      <td>68</td>\n",
       "      <td>21.367521</td>\n",
       "      <td>77</td>\n",
       "      <td>3.226</td>\n",
       "      <td>0.612725</td>\n",
       "      <td>9.8827</td>\n",
       "      <td>7.169560</td>\n",
       "      <td>12.76600</td>\n",
       "      <td>928.220</td>\n",
       "      <td>1</td>\n",
       "    </tr>\n",
       "    <tr>\n",
       "      <th>4</th>\n",
       "      <td>86</td>\n",
       "      <td>21.111111</td>\n",
       "      <td>92</td>\n",
       "      <td>3.549</td>\n",
       "      <td>0.805386</td>\n",
       "      <td>6.6994</td>\n",
       "      <td>4.819240</td>\n",
       "      <td>10.57635</td>\n",
       "      <td>773.920</td>\n",
       "      <td>1</td>\n",
       "    </tr>\n",
       "  </tbody>\n",
       "</table>\n",
       "</div>"
      ],
      "text/plain": [
       "   Age        BMI  Glucose  Insulin      HOMA   Leptin  Adiponectin  Resistin  \\\n",
       "0   48  23.500000       70    2.707  0.467409   8.8071     9.702400   7.99585   \n",
       "1   83  20.690495       92    3.115  0.706897   8.8438     5.429285   4.06405   \n",
       "2   82  23.124670       91    4.498  1.009651  17.9393    22.432040   9.27715   \n",
       "3   68  21.367521       77    3.226  0.612725   9.8827     7.169560  12.76600   \n",
       "4   86  21.111111       92    3.549  0.805386   6.6994     4.819240  10.57635   \n",
       "\n",
       "     MCP.1  Classification  \n",
       "0  417.114               1  \n",
       "1  468.786               1  \n",
       "2  554.697               1  \n",
       "3  928.220               1  \n",
       "4  773.920               1  "
      ]
     },
     "execution_count": 2,
     "metadata": {},
     "output_type": "execute_result"
    }
   ],
   "source": [
    "import pandas as pd\n",
    "\n",
    "# Load the data\n",
    "health = pd.read_csv(\"data/dataR2.csv\")\n",
    "\n",
    "health.head()\n",
    "#print(health.head())"
   ]
  },
  {
   "cell_type": "markdown",
   "metadata": {},
   "source": [
    "Setting Up a Logistic Regression Model\n",
    "Before we can use a wrapper method, we need to specify a machine learning model. We’ll train a logistic regression model on the health data and see how well it performs.\n",
    "\n",
    "We’ll prepare the data by splitting it into a pandas DataFrame X and a pandas Series y. X will contain the observations of the independent variables, and y will contain the observations of the dependent variable.\n",
    "\n",
    "Here’s an example of how to do this. The fire dataset below was taken from the UCI Machine Learning Repository and cleaned for our analysis. Its features are Temperature, RH (relative humidity), Ws (wind speed), Rain, DMC (Duff Moisture Code), and FWI (Fire Weather Index). The final column, Classes, contains a 1 if there is a forest fire at a specific location on a given day and 0 if not.\n",
    "\n",
    "import pandas as pd\n",
    " \n",
    "# Load the data\n",
    "fire = pd.read_csv(\"fire.csv\")\n",
    "# Split independent and dependent variables\n",
    "X = fire.iloc[:,:-1]\n",
    "y = fire.iloc[:,-1]\n",
    "We can create a logistic regression model and fit it to X and y with scikit-learn using the following code.\n",
    "\n",
    "from sklearn.linear_model import LogisticRegression\n",
    " \n",
    "# Create and fit the logistic regression model\n",
    "lr = LogisticRegression()\n",
    "lr.fit(X, y)\n",
    "Logistic regression models give a probability that an observation belongs to a category. In the fire dataset, probabilities greater than 0.5 are considered predictions that there is a fire, and probabilities less than 0.5 are considered predictions that there is no fire. In the health dataset, probabilities greater than 0.5 are considered predictions that a patient has breast cancer.\n",
    "\n",
    "The accuracy of a logistic regression model is the percentage of correct predictions that it makes on a testing set. In scikit-learn, you can check the accuracy of a model with the .score() method.\n",
    "\n",
    "print(lr.score(X,y))\n",
    "This outputs:\n",
    "\n",
    "0.9836065573770492\n",
    "For our testing set, our logistic regression model correctly predicts whether a fire occurred 98.4% of the time."
   ]
  },
  {
   "cell_type": "code",
   "execution_count": 5,
   "metadata": {},
   "outputs": [
    {
     "name": "stdout",
     "output_type": "stream",
     "text": [
      "0.8017241379310345\n"
     ]
    }
   ],
   "source": [
    "import pandas as pd\n",
    "from sklearn.linear_model import LogisticRegression\n",
    "\n",
    "# Load the data\n",
    "health = pd.read_csv(\"data/dataR2.csv\")\n",
    "# Split independent and dependent variables\n",
    "X = health.iloc[:,:-1]\n",
    "y = health.iloc[:,-1]\n",
    "\"\"\"The dataset health has been loaded and split into features X and outcome y for you in script.py. Use the .fit() method to fit lr to X and y.\n",
    "\n",
    "(Side note: scikit-learn uses an algorithm that goes through many iterations to find optimal logistic regression coefficients. For this particular dataset, the algorithm doesn’t converge after the default maximum number of iterations, so we’ve included max_iter=1000 as a parameter in the LogisticRegression object just to make sure the algorithm converges.)\"\"\"\n",
    "# Logistic regression model\n",
    "lr = LogisticRegression(max_iter=1000)\n",
    "\n",
    "# Fit the model\n",
    "\"\"\"Use the .score() method to print the accuracy of the model and print it. How often does this model correctly predict whether or not a patient has breast cancer?\"\"\"\n",
    "# Print the accuracy of the model\n",
    "lr.fit(X,y)\n",
    "print(lr.score(X,y))\n"
   ]
  },
  {
   "cell_type": "markdown",
   "metadata": {},
   "source": [
    "## Sequential Forward Selection\n",
    "Now that we have a specific machine learning model, we can use a wrapper method to choose a smaller feature subset.\n",
    "\n",
    "Sequential forward selection is a wrapper method that builds a feature set by starting with no features and then adding one feature at a time until a desired number of features is reached. In the first step, the algorithm will train and test a model using only one feature at a time. The algorithm keeps the feature that performs best.\n",
    "\n",
    "In each subsequent step, the algorithm will test the model on each possible new feature addition. Whichever feature improves model performance the most is then added to the feature subset. This process stops once we have the desired number of features.\n",
    "\n",
    "Let’s say we want to use three features, and we have five features to choose from: age, height, weight, blood_pressure, and resting_heart_rate. Sequential forward selection will train your machine learning model on five different feature subsets: one for each feature.\n",
    "\n",
    "If the model performs best on the subset {age}, the algorithm will then train and test the model on the following four subsets:\n",
    "\n",
    "{age, height}\n",
    "{age, weight}\n",
    "{age, blood_pressure}\n",
    "{age, resting_heart_rate}\n",
    "If the model performs best on {age, resting_heart_rate}, the algorithm will test the model on the following three subsets:\n",
    "\n",
    "{age, height, resting_heart_rate}\n",
    "{age, weight, resting_heart_rate}\n",
    "{age, blood_pressure, resting_heart_rate}\n",
    "If the model performs best on {age, weight, resting_heart_rate}, it will stop the algorithm and use that feature set.\n",
    "\n",
    "Sequential forward selection is a greedy algorithm: instead of checking every possible feature set by brute force, it adds whichever feature gives the best immediate performance gain."
   ]
  },
  {
   "cell_type": "markdown",
   "metadata": {},
   "source": [
    "If you used sequential forward selection to add a fourth feature to the feature set {age, weight, resting_heart_rate} that you saw in the preceding example, what two feature sets would the algorithm test in the next step? Create sets called set1 and set2 that contain the appropriate features.\n",
    "\n",
    "For example, if the answer was {height, resting_heart_rate} and {weight, resting_heart_rate}, you would type:\n",
    "\n",
    "set1 = {\"height\", \"resting_heart_rate\"}\n",
    "set2 = {\"weight\", \"resting_heart_rate\"}"
   ]
  },
  {
   "cell_type": "code",
   "execution_count": 6,
   "metadata": {},
   "outputs": [],
   "source": [
    "set1 = {\"age\", \"height\", \"weight\", \"resting_heart_rate\"}\n",
    "set2 = {\"age\", \"weight\", \"blood_pressure\", \"resting_heart_rate\"}"
   ]
  },
  {
   "cell_type": "markdown",
   "metadata": {},
   "source": [
    "## Sequential Forward Selection with mlxtend\n",
    "Recall from a previous exercise that the logistic regression model was about 80.2% accurate at predicting if a patient had breast cancer. But there were NINE different features. Are all of those features necessary, or is it possible that the model could make accurate predictions with fewer features? That would make the model easier to understand, and it could simplify diagnosis.\n",
    "\n",
    "We will use the SFS class from Python’s mlxtend library to implement sequential forward selection and choose a subset of just THREE features for the logistic regression model that we used earlier.\n",
    "\n",
    "# Set up SFS parameters\n",
    "sfs = SFS(lr,\n",
    "           k_features=3, # number of features to select\n",
    "           forward=True,\n",
    "           floating=False,\n",
    "           scoring='accuracy',\n",
    "           cv=0)\n",
    "# Fit SFS to our features X and outcome y   \n",
    "sfs.fit(X, y)\n",
    "The first parameter is the name of the model that you’re using. In the previous exercise, we called the logistic regression model lr.\n",
    "The parameter k_features determines how many features the algorithm will select.\n",
    "forward=True and floating=False ensure that we are using sequential forward selection.\n",
    "scoring determines how the algorithm will evaluate each feature subset. It’s often okay to use the default value None because mlxtend will automatically use a metric that is suitable for whatever scikit-learn model you are using. For this lesson, we’ll set it to 'accuracy'.\n",
    "cv allows you to do k-fold cross-validation. We’ll leave it at 0 for this lesson and only evaluate performance on the training set.\n",
    "We’ll see which features were selected in the next exercise. For now, we just want to fit the SFS model."
   ]
  },
  {
   "cell_type": "markdown",
   "metadata": {},
   "source": [
    "1. Use mlxtend to create an SFS object called sfs. Set it to select three features, and make sure that you set forward and floating arguments to ensure that you are using sequential forward selection. Also set scoring='accuracy' and cv=0.\n",
    "\n",
    "Checkpoint 2 Passed\n",
    "2. Use the .fit() method to fit sfs to X and y."
   ]
  },
  {
   "cell_type": "code",
   "execution_count": 9,
   "metadata": {},
   "outputs": [
    {
     "data": {
      "text/html": [
       "<style>#sk-container-id-1 {color: black;background-color: white;}#sk-container-id-1 pre{padding: 0;}#sk-container-id-1 div.sk-toggleable {background-color: white;}#sk-container-id-1 label.sk-toggleable__label {cursor: pointer;display: block;width: 100%;margin-bottom: 0;padding: 0.3em;box-sizing: border-box;text-align: center;}#sk-container-id-1 label.sk-toggleable__label-arrow:before {content: \"▸\";float: left;margin-right: 0.25em;color: #696969;}#sk-container-id-1 label.sk-toggleable__label-arrow:hover:before {color: black;}#sk-container-id-1 div.sk-estimator:hover label.sk-toggleable__label-arrow:before {color: black;}#sk-container-id-1 div.sk-toggleable__content {max-height: 0;max-width: 0;overflow: hidden;text-align: left;background-color: #f0f8ff;}#sk-container-id-1 div.sk-toggleable__content pre {margin: 0.2em;color: black;border-radius: 0.25em;background-color: #f0f8ff;}#sk-container-id-1 input.sk-toggleable__control:checked~div.sk-toggleable__content {max-height: 200px;max-width: 100%;overflow: auto;}#sk-container-id-1 input.sk-toggleable__control:checked~label.sk-toggleable__label-arrow:before {content: \"▾\";}#sk-container-id-1 div.sk-estimator input.sk-toggleable__control:checked~label.sk-toggleable__label {background-color: #d4ebff;}#sk-container-id-1 div.sk-label input.sk-toggleable__control:checked~label.sk-toggleable__label {background-color: #d4ebff;}#sk-container-id-1 input.sk-hidden--visually {border: 0;clip: rect(1px 1px 1px 1px);clip: rect(1px, 1px, 1px, 1px);height: 1px;margin: -1px;overflow: hidden;padding: 0;position: absolute;width: 1px;}#sk-container-id-1 div.sk-estimator {font-family: monospace;background-color: #f0f8ff;border: 1px dotted black;border-radius: 0.25em;box-sizing: border-box;margin-bottom: 0.5em;}#sk-container-id-1 div.sk-estimator:hover {background-color: #d4ebff;}#sk-container-id-1 div.sk-parallel-item::after {content: \"\";width: 100%;border-bottom: 1px solid gray;flex-grow: 1;}#sk-container-id-1 div.sk-label:hover label.sk-toggleable__label {background-color: #d4ebff;}#sk-container-id-1 div.sk-serial::before {content: \"\";position: absolute;border-left: 1px solid gray;box-sizing: border-box;top: 0;bottom: 0;left: 50%;z-index: 0;}#sk-container-id-1 div.sk-serial {display: flex;flex-direction: column;align-items: center;background-color: white;padding-right: 0.2em;padding-left: 0.2em;position: relative;}#sk-container-id-1 div.sk-item {position: relative;z-index: 1;}#sk-container-id-1 div.sk-parallel {display: flex;align-items: stretch;justify-content: center;background-color: white;position: relative;}#sk-container-id-1 div.sk-item::before, #sk-container-id-1 div.sk-parallel-item::before {content: \"\";position: absolute;border-left: 1px solid gray;box-sizing: border-box;top: 0;bottom: 0;left: 50%;z-index: -1;}#sk-container-id-1 div.sk-parallel-item {display: flex;flex-direction: column;z-index: 1;position: relative;background-color: white;}#sk-container-id-1 div.sk-parallel-item:first-child::after {align-self: flex-end;width: 50%;}#sk-container-id-1 div.sk-parallel-item:last-child::after {align-self: flex-start;width: 50%;}#sk-container-id-1 div.sk-parallel-item:only-child::after {width: 0;}#sk-container-id-1 div.sk-dashed-wrapped {border: 1px dashed gray;margin: 0 0.4em 0.5em 0.4em;box-sizing: border-box;padding-bottom: 0.4em;background-color: white;}#sk-container-id-1 div.sk-label label {font-family: monospace;font-weight: bold;display: inline-block;line-height: 1.2em;}#sk-container-id-1 div.sk-label-container {text-align: center;}#sk-container-id-1 div.sk-container {/* jupyter's `normalize.less` sets `[hidden] { display: none; }` but bootstrap.min.css set `[hidden] { display: none !important; }` so we also need the `!important` here to be able to override the default hidden behavior on the sphinx rendered scikit-learn.org. See: https://github.com/scikit-learn/scikit-learn/issues/21755 */display: inline-block !important;position: relative;}#sk-container-id-1 div.sk-text-repr-fallback {display: none;}</style><div id=\"sk-container-id-1\" class=\"sk-top-container\"><div class=\"sk-text-repr-fallback\"><pre>SequentialFeatureSelector(cv=0, estimator=LogisticRegression(max_iter=1000),\n",
       "                          k_features=3, scoring=&#x27;accuracy&#x27;)</pre><b>In a Jupyter environment, please rerun this cell to show the HTML representation or trust the notebook. <br />On GitHub, the HTML representation is unable to render, please try loading this page with nbviewer.org.</b></div><div class=\"sk-container\" hidden><div class=\"sk-item sk-dashed-wrapped\"><div class=\"sk-label-container\"><div class=\"sk-label sk-toggleable\"><input class=\"sk-toggleable__control sk-hidden--visually\" id=\"sk-estimator-id-1\" type=\"checkbox\" ><label for=\"sk-estimator-id-1\" class=\"sk-toggleable__label sk-toggleable__label-arrow\">SequentialFeatureSelector</label><div class=\"sk-toggleable__content\"><pre>SequentialFeatureSelector(cv=0, estimator=LogisticRegression(max_iter=1000),\n",
       "                          k_features=3, scoring=&#x27;accuracy&#x27;)</pre></div></div></div><div class=\"sk-parallel\"><div class=\"sk-parallel-item\"><div class=\"sk-item\"><div class=\"sk-label-container\"><div class=\"sk-label sk-toggleable\"><input class=\"sk-toggleable__control sk-hidden--visually\" id=\"sk-estimator-id-2\" type=\"checkbox\" ><label for=\"sk-estimator-id-2\" class=\"sk-toggleable__label sk-toggleable__label-arrow\">estimator: LogisticRegression</label><div class=\"sk-toggleable__content\"><pre>LogisticRegression(max_iter=1000)</pre></div></div></div><div class=\"sk-serial\"><div class=\"sk-item\"><div class=\"sk-estimator sk-toggleable\"><input class=\"sk-toggleable__control sk-hidden--visually\" id=\"sk-estimator-id-3\" type=\"checkbox\" ><label for=\"sk-estimator-id-3\" class=\"sk-toggleable__label sk-toggleable__label-arrow\">LogisticRegression</label><div class=\"sk-toggleable__content\"><pre>LogisticRegression(max_iter=1000)</pre></div></div></div></div></div></div></div></div></div></div>"
      ],
      "text/plain": [
       "SequentialFeatureSelector(cv=0, estimator=LogisticRegression(max_iter=1000),\n",
       "                          k_features=3, scoring='accuracy')"
      ]
     },
     "execution_count": 9,
     "metadata": {},
     "output_type": "execute_result"
    }
   ],
   "source": [
    "import pandas as pd\n",
    "from sklearn.linear_model import LogisticRegression\n",
    "from mlxtend.feature_selection import SequentialFeatureSelector as SFS\n",
    "\n",
    "# Load the data\n",
    "health = pd.read_csv(\"data/dataR2.csv\")\n",
    "X = health.iloc[:,:-1]\n",
    "y = health.iloc[:,-1]\n",
    "\n",
    "# Logistic regression model\n",
    "lr = LogisticRegression(max_iter=1000)\n",
    "\n",
    "# Sequential forward selection\n",
    "sfs = SFS(lr,\n",
    "k_features=3, # number of features to select\n",
    "           forward=True,\n",
    "           floating=False,\n",
    "           scoring='accuracy',\n",
    "           cv=0\n",
    "\n",
    ")\n",
    "# Fit the equential forward selection model\n",
    "# Fit SFS to our features X and outcome y   \n",
    "sfs.fit(X, y)"
   ]
  },
  {
   "cell_type": "markdown",
   "metadata": {},
   "source": [
    "## Evaluating the Result of Sequential Forward Selection\n",
    "The sfs object that you fit in the previous exercise contains information about the sequential forward selection that was applied to your feature set. The .subsets_ attribute allows you to see much of that information, including which feature was chosen at each step and the model’s accuracy after each feature addition.\n",
    "\n",
    "sfs.subsets_ is a dictionary that looks something like this:\n",
    "\n",
    "{1: {'feature_idx': (7,),\n",
    "  'cv_scores': array([0.93852459]),\n",
    "  'avg_score': 0.9385245901639344,\n",
    "  'feature_names': ('FWI',)},\n",
    " 2: {'feature_idx': (4, 7),\n",
    "  'cv_scores': array([0.97540984]),\n",
    "  'avg_score': 0.9754098360655737,\n",
    "  'feature_names': ('DMC', 'FWI')},\n",
    " 3: {'feature_idx': (1, 4, 7),\n",
    "  'cv_scores': array([0.9795082]),\n",
    "  'avg_score': 0.9795081967213115,\n",
    "  'feature_names': (' RH', 'DMC', 'FWI')}}\n",
    "The keys in this dictionary are the numbers of features at each step in the sequential forward selection algorithm. The values in the dictionary are dictionaries with information about the feature set at each step. 'avg_score' is the accuracy of the model with the specified number of features.\n",
    "\n",
    "In this particular example, the model had an accuracy of about 93.9% after the feature FWI was added. The accuracy improved to about 97.5% after a second feature, DMC, was added. Once three features were added the accuracy improved to about 98.0%.\n",
    "\n",
    "You can use this dictionary to easily get a tuple of chosen features or the accuracy of the model after any step.\n",
    "\n",
    "# Print a tuple of feature names after 5 features are added\n",
    "print(sfs.subsets_[5]['feature_names'])\n",
    "This outputs:\n",
    "\n",
    "(' RH', ' Ws', 'Rain ', 'DMC', 'FWI')\n",
    "# Print the accuracy of the model after 5 features are added\n",
    "print(sfs.subsets_[5]['avg_score'])\n",
    "This outputs:\n",
    "\n",
    "0.9836065573770492\n",
    "The mlxtend library also makes it easy to visualize how the accuracy of a model changes as sequential forward selection adds features. You can use the code plot_sfs(sfs.get_metric_dict()) to create a matplotlib figure that plots the model’s performance as a function of the number of features used.\n",
    "\n",
    "from mlxtend.plotting import plot_sequential_feature_selection as plot_sfs\n",
    "import matplotlib.pyplot as plt\n",
    " \n",
    "# Plot the accuracy of the model as a function of the number of features\n",
    "plot_sfs(sfs.get_metric_dict())\n",
    "plt.show()\n",
    "Model accuracy\n",
    "\n",
    "This plot shows you some of the same information that was in sfs.subsets_. The accuracy after one feature was added is about 93.9%, then 97.5% after a second feature is added, and so on."
   ]
  },
  {
   "cell_type": "code",
   "execution_count": 11,
   "metadata": {},
   "outputs": [
    {
     "name": "stdout",
     "output_type": "stream",
     "text": [
      "('Age', 'Glucose', 'Insulin')\n",
      "0.7672413793103449\n"
     ]
    },
    {
     "name": "stderr",
     "output_type": "stream",
     "text": [
      "c:\\Users\\momad\\anaconda3\\envs\\myenv\\lib\\site-packages\\numpy\\core\\_methods.py:264: RuntimeWarning: Degrees of freedom <= 0 for slice\n",
      "  ret = _var(a, axis=axis, dtype=dtype, out=out, ddof=ddof,\n",
      "c:\\Users\\momad\\anaconda3\\envs\\myenv\\lib\\site-packages\\numpy\\core\\_methods.py:256: RuntimeWarning: invalid value encountered in double_scalars\n",
      "  ret = ret.dtype.type(ret / rcount)\n"
     ]
    },
    {
     "data": {
      "image/png": "[encoded data removed]",
      "text/plain": [
       "<Figure size 432x288 with 1 Axes>"
      ]
     },
     "metadata": {
      "needs_background": "light"
     },
     "output_type": "display_data"
    }
   ],
   "source": [
    "import pandas as pd\n",
    "from sklearn.linear_model import LogisticRegression\n",
    "from mlxtend.feature_selection import SequentialFeatureSelector as SFS\n",
    "from mlxtend.plotting import plot_sequential_feature_selection as plot_sfs\n",
    "import matplotlib.pyplot as plt\n",
    "\n",
    "# Load the data\n",
    "health = pd.read_csv(\"data/dataR2.csv\")\n",
    "X = health.iloc[:,:-1]\n",
    "y = health.iloc[:,-1]\n",
    "\n",
    "# Logistic regression model\n",
    "lr = LogisticRegression(max_iter=1000)\n",
    "\n",
    "# Sequential forward selection\n",
    "sfs = SFS(lr,\n",
    "          k_features=3,\n",
    "          forward=True,\n",
    "          floating=False,\n",
    "          scoring='accuracy',\n",
    "          cv=0)\n",
    "sfs.fit(X, y)\n",
    "\n",
    "\"\"\"Use the .subsets_ attribute of sfs to print a tuple that contains the names of the features chosen in the previous exercise (remember that we chose three features).\"\"\"\n",
    "# Print the chosen feature names\n",
    "print(sfs.subsets_[3]['feature_names'])\n",
    "# Print the accuracy of the model after sequential forward selection\n",
    "\"\"\"Use the .subsets_ attribute of sfs to print the accuracy of the model with three features after doing sequential forward selection.\n",
    "\n",
    "Recall that the original model was about 80% accurate when it used all nine features. How does the accuracy of the model with only three features compare?\"\"\"\n",
    "print(sfs.subsets_[3]['avg_score'])\n",
    "# Plot the model accuracy\n",
    "\"\"\"Use plot_sfs(sfs.get_metric_dict()) to plot the accuracy as a function of the number of features. Remember to show your plot.\"\"\"\n",
    "plot_sfs(sfs.get_metric_dict())\n",
    "plt.show()\n"
   ]
  },
  {
   "cell_type": "markdown",
   "metadata": {},
   "source": [
    "## Sequential Backward Selection with mlxtend\n",
    "Sequential backward selection is another wrapper method for feature selection. It is very similar to sequential forward selection, but there is one key difference. Instead of starting with no features and adding one feature at a time, sequential backward selection starts with all of the available features and removes one feature at a time.\n",
    "\n",
    "Let’s again say we want to use three of the following five features: age, height, weight, blood_pressure, and resting_heart_rate. Sequential backward selection will start by training whatever machine learning model you are using on five different feature subsets, one for each possible feature removal:\n",
    "\n",
    "{height, weight, blood_pressure, resting_heart_rate}\n",
    "{age, weight, blood_pressure, resting_heart_rate}\n",
    "{age, height, blood_pressure, resting_heart_rate}\n",
    "{age, height, weight, resting_heart_rate}\n",
    "{age, height, weight, blood_pressure}\n",
    "Let’s say that out of the five subsets, the model performed best on the subset without blood_pressure. Then the algorithm will proceed with the feature set {age, height, weight, resting_heart_rate}. It then tries removing each of age, height, weight, and resting_heart_rate.\n",
    "\n",
    "Let’s say that of those four subsets, the model performed best without weight. Then it will arrive at the subset {age, height, resting_heart_rate}. The algorithm will stop there since it arrived at the desired number of features.\n",
    "\n",
    "To implement sequential backward selection in mlxtend you can use the same SFS class you used for sequential forward selection. The only difference is that you have to set the parameter forward to False."
   ]
  },
  {
   "cell_type": "code",
   "execution_count": 13,
   "metadata": {},
   "outputs": [
    {
     "data": {
      "text/html": [
       "<style>#sk-container-id-2 {color: black;background-color: white;}#sk-container-id-2 pre{padding: 0;}#sk-container-id-2 div.sk-toggleable {background-color: white;}#sk-container-id-2 label.sk-toggleable__label {cursor: pointer;display: block;width: 100%;margin-bottom: 0;padding: 0.3em;box-sizing: border-box;text-align: center;}#sk-container-id-2 label.sk-toggleable__label-arrow:before {content: \"▸\";float: left;margin-right: 0.25em;color: #696969;}#sk-container-id-2 label.sk-toggleable__label-arrow:hover:before {color: black;}#sk-container-id-2 div.sk-estimator:hover label.sk-toggleable__label-arrow:before {color: black;}#sk-container-id-2 div.sk-toggleable__content {max-height: 0;max-width: 0;overflow: hidden;text-align: left;background-color: #f0f8ff;}#sk-container-id-2 div.sk-toggleable__content pre {margin: 0.2em;color: black;border-radius: 0.25em;background-color: #f0f8ff;}#sk-container-id-2 input.sk-toggleable__control:checked~div.sk-toggleable__content {max-height: 200px;max-width: 100%;overflow: auto;}#sk-container-id-2 input.sk-toggleable__control:checked~label.sk-toggleable__label-arrow:before {content: \"▾\";}#sk-container-id-2 div.sk-estimator input.sk-toggleable__control:checked~label.sk-toggleable__label {background-color: #d4ebff;}#sk-container-id-2 div.sk-label input.sk-toggleable__control:checked~label.sk-toggleable__label {background-color: #d4ebff;}#sk-container-id-2 input.sk-hidden--visually {border: 0;clip: rect(1px 1px 1px 1px);clip: rect(1px, 1px, 1px, 1px);height: 1px;margin: -1px;overflow: hidden;padding: 0;position: absolute;width: 1px;}#sk-container-id-2 div.sk-estimator {font-family: monospace;background-color: #f0f8ff;border: 1px dotted black;border-radius: 0.25em;box-sizing: border-box;margin-bottom: 0.5em;}#sk-container-id-2 div.sk-estimator:hover {background-color: #d4ebff;}#sk-container-id-2 div.sk-parallel-item::after {content: \"\";width: 100%;border-bottom: 1px solid gray;flex-grow: 1;}#sk-container-id-2 div.sk-label:hover label.sk-toggleable__label {background-color: #d4ebff;}#sk-container-id-2 div.sk-serial::before {content: \"\";position: absolute;border-left: 1px solid gray;box-sizing: border-box;top: 0;bottom: 0;left: 50%;z-index: 0;}#sk-container-id-2 div.sk-serial {display: flex;flex-direction: column;align-items: center;background-color: white;padding-right: 0.2em;padding-left: 0.2em;position: relative;}#sk-container-id-2 div.sk-item {position: relative;z-index: 1;}#sk-container-id-2 div.sk-parallel {display: flex;align-items: stretch;justify-content: center;background-color: white;position: relative;}#sk-container-id-2 div.sk-item::before, #sk-container-id-2 div.sk-parallel-item::before {content: \"\";position: absolute;border-left: 1px solid gray;box-sizing: border-box;top: 0;bottom: 0;left: 50%;z-index: -1;}#sk-container-id-2 div.sk-parallel-item {display: flex;flex-direction: column;z-index: 1;position: relative;background-color: white;}#sk-container-id-2 div.sk-parallel-item:first-child::after {align-self: flex-end;width: 50%;}#sk-container-id-2 div.sk-parallel-item:last-child::after {align-self: flex-start;width: 50%;}#sk-container-id-2 div.sk-parallel-item:only-child::after {width: 0;}#sk-container-id-2 div.sk-dashed-wrapped {border: 1px dashed gray;margin: 0 0.4em 0.5em 0.4em;box-sizing: border-box;padding-bottom: 0.4em;background-color: white;}#sk-container-id-2 div.sk-label label {font-family: monospace;font-weight: bold;display: inline-block;line-height: 1.2em;}#sk-container-id-2 div.sk-label-container {text-align: center;}#sk-container-id-2 div.sk-container {/* jupyter's `normalize.less` sets `[hidden] { display: none; }` but bootstrap.min.css set `[hidden] { display: none !important; }` so we also need the `!important` here to be able to override the default hidden behavior on the sphinx rendered scikit-learn.org. See: https://github.com/scikit-learn/scikit-learn/issues/21755 */display: inline-block !important;position: relative;}#sk-container-id-2 div.sk-text-repr-fallback {display: none;}</style><div id=\"sk-container-id-2\" class=\"sk-top-container\"><div class=\"sk-text-repr-fallback\"><pre>SequentialFeatureSelector(cv=0, estimator=LogisticRegression(max_iter=1000),\n",
       "                          forward=False, k_features=3, scoring=&#x27;accuracy&#x27;)</pre><b>In a Jupyter environment, please rerun this cell to show the HTML representation or trust the notebook. <br />On GitHub, the HTML representation is unable to render, please try loading this page with nbviewer.org.</b></div><div class=\"sk-container\" hidden><div class=\"sk-item sk-dashed-wrapped\"><div class=\"sk-label-container\"><div class=\"sk-label sk-toggleable\"><input class=\"sk-toggleable__control sk-hidden--visually\" id=\"sk-estimator-id-4\" type=\"checkbox\" ><label for=\"sk-estimator-id-4\" class=\"sk-toggleable__label sk-toggleable__label-arrow\">SequentialFeatureSelector</label><div class=\"sk-toggleable__content\"><pre>SequentialFeatureSelector(cv=0, estimator=LogisticRegression(max_iter=1000),\n",
       "                          forward=False, k_features=3, scoring=&#x27;accuracy&#x27;)</pre></div></div></div><div class=\"sk-parallel\"><div class=\"sk-parallel-item\"><div class=\"sk-item\"><div class=\"sk-label-container\"><div class=\"sk-label sk-toggleable\"><input class=\"sk-toggleable__control sk-hidden--visually\" id=\"sk-estimator-id-5\" type=\"checkbox\" ><label for=\"sk-estimator-id-5\" class=\"sk-toggleable__label sk-toggleable__label-arrow\">estimator: LogisticRegression</label><div class=\"sk-toggleable__content\"><pre>LogisticRegression(max_iter=1000)</pre></div></div></div><div class=\"sk-serial\"><div class=\"sk-item\"><div class=\"sk-estimator sk-toggleable\"><input class=\"sk-toggleable__control sk-hidden--visually\" id=\"sk-estimator-id-6\" type=\"checkbox\" ><label for=\"sk-estimator-id-6\" class=\"sk-toggleable__label sk-toggleable__label-arrow\">LogisticRegression</label><div class=\"sk-toggleable__content\"><pre>LogisticRegression(max_iter=1000)</pre></div></div></div></div></div></div></div></div></div></div>"
      ],
      "text/plain": [
       "SequentialFeatureSelector(cv=0, estimator=LogisticRegression(max_iter=1000),\n",
       "                          forward=False, k_features=3, scoring='accuracy')"
      ]
     },
     "execution_count": 13,
     "metadata": {},
     "output_type": "execute_result"
    }
   ],
   "source": [
    "import pandas as pd\n",
    "from sklearn.linear_model import LogisticRegression\n",
    "from mlxtend.feature_selection import SequentialFeatureSelector as SFS\n",
    "\n",
    "# Load the data\n",
    "health = pd.read_csv(\"data/dataR2.csv\")\n",
    "X = health.iloc[:,:-1]\n",
    "y = health.iloc[:,-1]\n",
    "\n",
    "# Logistic regression model\n",
    "lr = LogisticRegression(max_iter=1000)\n",
    "\n",
    "\"\"\"The object sbs is currently set to use sequential forward selection. Change the forward parameter so that it uses sequential backward selection instead. You can leave all the other parameters the same.\"\"\"\n",
    "# Sequential backward selection\n",
    "sbs = SFS(lr,\n",
    "          k_features=3,\n",
    "          forward=False,\n",
    "          floating=False,\n",
    "          scoring='accuracy',\n",
    "          cv=0)\n",
    "\n",
    "# Fit the sequential backward selection model\n",
    "sbs.fit(X, y)"
   ]
  },
  {
   "cell_type": "markdown",
   "metadata": {},
   "source": [
    "## Evaluating the Result of Sequential Backward Selection\n",
    "As you learned in a previous exercise, model.subsets_ is a dictionary that contains information about feature subsets from each step of an SFS selection model. This works with sequential backward selection just like it did with sequential forward selection.\n",
    "\n",
    "print(sbs.subsets_)\n",
    "{6: {'feature_idx': (0, 1, 2, 3, 4, 5),\n",
    "  'cv_scores': array([0.98360656]),\n",
    "  'avg_score': 0.9836065573770492,\n",
    "  'feature_names': ('Temperature', ' RH', ' Ws', 'Rain ', 'DMC', 'FWI')},\n",
    " 5: {'feature_idx': (1, 2, 3, 4, 5),\n",
    "  'cv_scores': array([0.98360656]),\n",
    "  'avg_score': 0.9836065573770492,\n",
    "  'feature_names': (' RH', ' Ws', 'Rain ', 'DMC', 'FWI')},\n",
    " 4: {'feature_idx': (2, 3, 4, 5),\n",
    "  'cv_scores': array([0.98360656]),\n",
    "  'avg_score': 0.9836065573770492,\n",
    "  'feature_names': (' Ws', 'Rain ', 'DMC', 'FWI')},\n",
    " 3: {'feature_idx': (2, 4, 5),\n",
    "  'cv_scores': array([0.9795082]),\n",
    "  'avg_score': 0.9795081967213115,\n",
    "  'feature_names': (' Ws', 'DMC', 'FWI')}}\n",
    "You can also use plot_sfs(sfs.get_metric_dict()) to visualize the results of sequential backward selection.\n",
    "\n",
    "# Plot the accuracy of the model as a function of the number of features\n",
    "plot_sfs(sbs.get_metric_dict())\n",
    "plt.show()\n",
    "Model accuracy"
   ]
  },
  {
   "cell_type": "code",
   "execution_count": 14,
   "metadata": {},
   "outputs": [
    {
     "name": "stdout",
     "output_type": "stream",
     "text": [
      "('Age', 'Glucose', 'Resistin')\n",
      "0.7413793103448276\n"
     ]
    },
    {
     "name": "stderr",
     "output_type": "stream",
     "text": [
      "c:\\Users\\momad\\anaconda3\\envs\\myenv\\lib\\site-packages\\numpy\\core\\_methods.py:264: RuntimeWarning: Degrees of freedom <= 0 for slice\n",
      "  ret = _var(a, axis=axis, dtype=dtype, out=out, ddof=ddof,\n",
      "c:\\Users\\momad\\anaconda3\\envs\\myenv\\lib\\site-packages\\numpy\\core\\_methods.py:256: RuntimeWarning: invalid value encountered in double_scalars\n",
      "  ret = ret.dtype.type(ret / rcount)\n"
     ]
    },
    {
     "data": {
      "image/png": "[encoded data removed]",
      "text/plain": [
       "<Figure size 432x288 with 1 Axes>"
      ]
     },
     "metadata": {
      "needs_background": "light"
     },
     "output_type": "display_data"
    }
   ],
   "source": [
    "import pandas as pd\n",
    "from sklearn.linear_model import LogisticRegression\n",
    "from mlxtend.feature_selection import SequentialFeatureSelector as SFS\n",
    "from mlxtend.plotting import plot_sequential_feature_selection as plot_sfs\n",
    "import matplotlib.pyplot as plt\n",
    "\n",
    "# Load the data\n",
    "health = pd.read_csv(\"data/dataR2.csv\")\n",
    "X = health.iloc[:,:-1]\n",
    "y = health.iloc[:,-1]\n",
    "\n",
    "# Logistic regression model\n",
    "lr = LogisticRegression(max_iter=1000)\n",
    "\n",
    "# Sequential backward selection\n",
    "sbs = SFS(lr,\n",
    "          k_features=3,\n",
    "          forward=False,\n",
    "          floating=False,\n",
    "          scoring='accuracy',\n",
    "          cv=0)\n",
    "sbs.fit(X, y)\n",
    "\n",
    "\"\"\"Use the .subsets_ attribute of sbs to print a tuple that contains the names of the features chosen in the previous exercise (remember that we chose three features). Did you get the same feature set as you did with sequential forward selection?\"\"\"\n",
    "# Print the chosen feature names\n",
    "print(sbs.subsets_[3]['feature_names'])\n",
    "\n",
    "\"\"\"Use the .subsets_ attribute of sbs to print the accuracy of the model after doing sequential backward selection.\n",
    "\n",
    "Recall that the original model was about 80% accurate when it used all nine features. How does the accuracy of the model with only three features compare? How does the accuracy of sequential backward selection compare to sequential forward selection?\"\"\"\n",
    "# Print the accuracy of the model after sequential backward selection\n",
    "print(sbs.subsets_[3]['avg_score'])\n",
    "\n",
    "\"\"\"Use plot_sfs(sbs.get_metric_dict()) to plot the accuracy as a function of the number of features. Notice that the accuracy sometimes decreases when a feature is removed. Do you think that too much accuracy was lost, or is that a reasonable trade-off to have a simpler model?\"\"\"\n",
    "# Plot the model accuracy\n",
    "plot_sfs(sbs.get_metric_dict())\n",
    "plt.show()"
   ]
  },
  {
   "cell_type": "markdown",
   "metadata": {},
   "source": [
    "## Sequential Forward and Backward Floating Selection\n",
    "Sequential forward floating selection is a variation of sequential forward selection. It starts with zero features and adds one feature at a time, just like sequential forward selection, but after each addition, it checks to see if we can improve performance by removing a feature.\n",
    "\n",
    "If performance can’t be improved, the floating algorithm will continue to the next step and add another feature.\n",
    "If performance can be improved, the algorithm will make the removal that improves performance the most (unless removal of that feature would lead to an infinite loop of adding and removing the same feature over and over again).\n",
    "For example, let’s say that the algorithm has just added weight to the feature set {age, resting_heart_rate}, resulting in the set {age, weight, resting_heart_rate}. The floating algorithm will test whether it can improve performance by removing age or resting_heart_rate. If the removal of age improves performance, then the algorithm will proceed with the set {weight, resting_heart_rate}.\n",
    "\n",
    "Sequential backward floating selection works similarly. Starting with all available features, it removes one feature at a time. After each feature removal, it will check to see if any feature additions will improve performance (but it won’t add any features that would result in an infinite loop).\n",
    "\n",
    "Floating selection algorithms are sometimes preferable to their non-floating counterparts because they test the model on more possible feature subsets. They can detect useful relationships between variables that plain sequential forward and backward selection might miss."
   ]
  },
  {
   "cell_type": "markdown",
   "metadata": {},
   "source": [
    "Let’s say that sequential backward floating selection is being done on the set {age, height, weight, blood_pressure, resting_heart_rate}. The algorithm removes weight, blood_pressure, and resting_heart_rate in that order. After removing resting_heart_rate, the model had an accuracy of 86%. Now it will try some feature additions. The possible feature additions give the following accuracies:\n",
    "\n",
    "Feature subset\tAccuracy\n",
    "{age, height, weight}\t0.95\n",
    "{age, height, blood_pressure}\t0.92\n",
    "\n",
    "Will it add a feature?\n",
    "\n",
    "If yes, create a variable called added_feature, and set it equal to the name of the feature as a string.\n",
    "If no, create a variable called added_feature, and set it equal to None."
   ]
  },
  {
   "cell_type": "code",
   "execution_count": 15,
   "metadata": {},
   "outputs": [],
   "source": [
    "added_feature = 'weight'"
   ]
  },
  {
   "cell_type": "markdown",
   "metadata": {},
   "source": [
    "## Sequential Forward and Backward Floating Selection with mlxtend\n",
    "We can implement sequential forward or backward floating selection in mlxtend by setting the parameter floating to True. The parameter forward determines whether mlxtend will use sequential forward floating selection or sequential backward floating selection. As usual, the dictionary model.subsets_ will contain useful information about the chosen features.\n",
    "\n",
    "Here’s an implementation of sequential backward floating selection.\n",
    "\n",
    "# Sequential backward floating selection\n",
    "sbfs = SFS(lr,\n",
    "          k_features=5,\n",
    "          forward=False,\n",
    "          floating=True,\n",
    "          scoring='accuracy',\n",
    "          cv=0)\n",
    "sbfs.fit(X, y)\n",
    "We can use the .subsets_ attribute to look at feature names, just like we did with the non-floating sequential selection algorithms.\n",
    "\n",
    "print(sbfs.subsets_[5]['feature_names'])\n",
    "This outputs:\n",
    "\n",
    "(' RH', ' Ws', 'Rain ', 'DMC', 'FWI')"
   ]
  },
  {
   "cell_type": "code",
   "execution_count": 16,
   "metadata": {},
   "outputs": [
    {
     "name": "stdout",
     "output_type": "stream",
     "text": [
      "('Age', 'Glucose', 'Insulin')\n",
      "('Age', 'Glucose', 'Resistin')\n",
      "None\n"
     ]
    }
   ],
   "source": [
    "import pandas as pd\n",
    "from sklearn.linear_model import LogisticRegression\n",
    "from mlxtend.feature_selection import SequentialFeatureSelector as SFS\n",
    "\n",
    "# Load the data\n",
    "health = pd.read_csv(\"data/dataR2.csv\")\n",
    "X = health.iloc[:,:-1]\n",
    "y = health.iloc[:,-1]\n",
    "\n",
    "# Logistic regression model\n",
    "lr = LogisticRegression(max_iter=1000)\n",
    "\n",
    "# Sequential forward floating selection\n",
    "sffs = SFS(lr,\n",
    "          k_features=3,\n",
    "          forward=True,\n",
    "          floating=True,\n",
    "          scoring='accuracy',\n",
    "          cv=0)\n",
    "sffs.fit(X, y)\n",
    "\n",
    "# Print a tuple with the names of the features chosen by sequential forward floating selection.\n",
    "print(sffs.subsets_[3]['feature_names'])\n",
    "# Sequential backward floating selection\n",
    "sbfs = SFS(lr,\n",
    "          k_features=3,\n",
    "          forward=False,\n",
    "          floating=True,\n",
    "          scoring='accuracy',\n",
    "          cv=0)\n",
    "sbfs.fit(X, y)\n",
    "\n",
    "# Print a tuple with the names of the features chosen by sequential backward floating selection.\n",
    "print(print(sbfs.subsets_[3]['feature_names']))"
   ]
  },
  {
   "cell_type": "markdown",
   "metadata": {},
   "source": [
    "## Recursive Feature Elimination\n",
    "Recursive feature elimination is another wrapper method for feature selection. It starts by training a model with all available features. It then ranks each feature according to an importance metric and removes the least important feature. The algorithm then trains the model on the smaller feature set, ranks those features, and removes the least important one. The process stops when the desired number of features is reached.\n",
    "\n",
    "In regression problems, features are ranked by the size of the absolute value of their coefficients. For example, let’s say that we trained a regression model with five features and got the following regression coefficients.\n",
    "\n",
    "Feature\tRegression coefficient\n",
    "age\t2.5\n",
    "height\t7.0\n",
    "weight\t-4.3\n",
    "blood_pressure\t-5.7\n",
    "resting_heart_rate\t-4.6\n",
    "\n",
    "The regression coefficient for age has the smallest absolute value, so it is ranked least important by recursive feature elimination. It will be removed, and the remaining four features will be re-ranked after the model is trained without age.\n",
    "\n",
    "It’s important to note that you might need to standardize data before doing recursive feature elimination. In regression problems in particular, it’s necessary to standardize data so that the scale of features doesn’t affect the size of the coefficients.\n",
    "\n",
    "Note that recursive feature elimination is different from sequential backward selection. Sequential backward selection removes features by training a model on a collection of subsets (one for each possible feature removal) and greedily proceeding with whatever subset performs best. Recursive feature elimination, on the other hand, only trains a model on one feature subset before deciding which feature to remove next.\n",
    "\n",
    "This is one advantage of recursive feature elimination. Since it only needs to train and test a model on one feature subset per feature removal, it can be much faster than the sequential selection methods that we’ve covered."
   ]
  },
  {
   "cell_type": "markdown",
   "metadata": {},
   "source": [
    "1. Say you want to choose four out of six possible features for a model. If you use recursive feature elimination, how many different feature subsets will you test a model on? Set this number to a variable called rfe_test_count.\n",
    "\n",
    "Checkpoint 2 Passed\n",
    "\n",
    "2. If you use sequential backward selection to choose four out of six features, how many different feature subsets will you test a model on? Set this number to a variable called sbs_test_count. Which method uses fewer tests?"
   ]
  },
  {
   "cell_type": "code",
   "execution_count": 17,
   "metadata": {},
   "outputs": [],
   "source": [
    "rfe_test_count = 2\n",
    "sbs_test_count = 6 + 5"
   ]
  },
  {
   "cell_type": "markdown",
   "metadata": {},
   "source": [
    "## Recursive Feature Elimination with scikit-learn\n",
    "We can use scikit-learn to implement recursive feature elimination. Since we’re using a logistic regression model, it’s important to standardize data before we proceed.\n",
    "\n",
    "We can standardize features using scikit-learn’s StandardScaler().\n",
    "\n",
    "from sklearn.preprocessing import StandardScaler\n",
    " \n",
    "X = StandardScaler().fit_transform(X)\n",
    "Once the data is standardized, you can train the model and do recursive feature elimination using RFE() from scikit-learn. As before with the sequential feature selection methods, you have to specify a scikit-learn model for the estimator parameter (in this case, lr for our logistic regression model). n_features_to_select is self-explanatory: set it to the number of features you want to select.\n",
    "\n",
    "from sklearn.feature_selection import RFE\n",
    " \n",
    "# Recursive feature elimination\n",
    "rfe = RFE(lr, n_features_to_select=2)\n",
    "rfe.fit(X, y)"
   ]
  },
  {
   "cell_type": "code",
   "execution_count": 19,
   "metadata": {},
   "outputs": [
    {
     "data": {
      "text/html": [
       "<style>#sk-container-id-3 {color: black;background-color: white;}#sk-container-id-3 pre{padding: 0;}#sk-container-id-3 div.sk-toggleable {background-color: white;}#sk-container-id-3 label.sk-toggleable__label {cursor: pointer;display: block;width: 100%;margin-bottom: 0;padding: 0.3em;box-sizing: border-box;text-align: center;}#sk-container-id-3 label.sk-toggleable__label-arrow:before {content: \"▸\";float: left;margin-right: 0.25em;color: #696969;}#sk-container-id-3 label.sk-toggleable__label-arrow:hover:before {color: black;}#sk-container-id-3 div.sk-estimator:hover label.sk-toggleable__label-arrow:before {color: black;}#sk-container-id-3 div.sk-toggleable__content {max-height: 0;max-width: 0;overflow: hidden;text-align: left;background-color: #f0f8ff;}#sk-container-id-3 div.sk-toggleable__content pre {margin: 0.2em;color: black;border-radius: 0.25em;background-color: #f0f8ff;}#sk-container-id-3 input.sk-toggleable__control:checked~div.sk-toggleable__content {max-height: 200px;max-width: 100%;overflow: auto;}#sk-container-id-3 input.sk-toggleable__control:checked~label.sk-toggleable__label-arrow:before {content: \"▾\";}#sk-container-id-3 div.sk-estimator input.sk-toggleable__control:checked~label.sk-toggleable__label {background-color: #d4ebff;}#sk-container-id-3 div.sk-label input.sk-toggleable__control:checked~label.sk-toggleable__label {background-color: #d4ebff;}#sk-container-id-3 input.sk-hidden--visually {border: 0;clip: rect(1px 1px 1px 1px);clip: rect(1px, 1px, 1px, 1px);height: 1px;margin: -1px;overflow: hidden;padding: 0;position: absolute;width: 1px;}#sk-container-id-3 div.sk-estimator {font-family: monospace;background-color: #f0f8ff;border: 1px dotted black;border-radius: 0.25em;box-sizing: border-box;margin-bottom: 0.5em;}#sk-container-id-3 div.sk-estimator:hover {background-color: #d4ebff;}#sk-container-id-3 div.sk-parallel-item::after {content: \"\";width: 100%;border-bottom: 1px solid gray;flex-grow: 1;}#sk-container-id-3 div.sk-label:hover label.sk-toggleable__label {background-color: #d4ebff;}#sk-container-id-3 div.sk-serial::before {content: \"\";position: absolute;border-left: 1px solid gray;box-sizing: border-box;top: 0;bottom: 0;left: 50%;z-index: 0;}#sk-container-id-3 div.sk-serial {display: flex;flex-direction: column;align-items: center;background-color: white;padding-right: 0.2em;padding-left: 0.2em;position: relative;}#sk-container-id-3 div.sk-item {position: relative;z-index: 1;}#sk-container-id-3 div.sk-parallel {display: flex;align-items: stretch;justify-content: center;background-color: white;position: relative;}#sk-container-id-3 div.sk-item::before, #sk-container-id-3 div.sk-parallel-item::before {content: \"\";position: absolute;border-left: 1px solid gray;box-sizing: border-box;top: 0;bottom: 0;left: 50%;z-index: -1;}#sk-container-id-3 div.sk-parallel-item {display: flex;flex-direction: column;z-index: 1;position: relative;background-color: white;}#sk-container-id-3 div.sk-parallel-item:first-child::after {align-self: flex-end;width: 50%;}#sk-container-id-3 div.sk-parallel-item:last-child::after {align-self: flex-start;width: 50%;}#sk-container-id-3 div.sk-parallel-item:only-child::after {width: 0;}#sk-container-id-3 div.sk-dashed-wrapped {border: 1px dashed gray;margin: 0 0.4em 0.5em 0.4em;box-sizing: border-box;padding-bottom: 0.4em;background-color: white;}#sk-container-id-3 div.sk-label label {font-family: monospace;font-weight: bold;display: inline-block;line-height: 1.2em;}#sk-container-id-3 div.sk-label-container {text-align: center;}#sk-container-id-3 div.sk-container {/* jupyter's `normalize.less` sets `[hidden] { display: none; }` but bootstrap.min.css set `[hidden] { display: none !important; }` so we also need the `!important` here to be able to override the default hidden behavior on the sphinx rendered scikit-learn.org. See: https://github.com/scikit-learn/scikit-learn/issues/21755 */display: inline-block !important;position: relative;}#sk-container-id-3 div.sk-text-repr-fallback {display: none;}</style><div id=\"sk-container-id-3\" class=\"sk-top-container\"><div class=\"sk-text-repr-fallback\"><pre>RFE(estimator=LogisticRegression(max_iter=1000), n_features_to_select=3)</pre><b>In a Jupyter environment, please rerun this cell to show the HTML representation or trust the notebook. <br />On GitHub, the HTML representation is unable to render, please try loading this page with nbviewer.org.</b></div><div class=\"sk-container\" hidden><div class=\"sk-item sk-dashed-wrapped\"><div class=\"sk-label-container\"><div class=\"sk-label sk-toggleable\"><input class=\"sk-toggleable__control sk-hidden--visually\" id=\"sk-estimator-id-7\" type=\"checkbox\" ><label for=\"sk-estimator-id-7\" class=\"sk-toggleable__label sk-toggleable__label-arrow\">RFE</label><div class=\"sk-toggleable__content\"><pre>RFE(estimator=LogisticRegression(max_iter=1000), n_features_to_select=3)</pre></div></div></div><div class=\"sk-parallel\"><div class=\"sk-parallel-item\"><div class=\"sk-item\"><div class=\"sk-label-container\"><div class=\"sk-label sk-toggleable\"><input class=\"sk-toggleable__control sk-hidden--visually\" id=\"sk-estimator-id-8\" type=\"checkbox\" ><label for=\"sk-estimator-id-8\" class=\"sk-toggleable__label sk-toggleable__label-arrow\">estimator: LogisticRegression</label><div class=\"sk-toggleable__content\"><pre>LogisticRegression(max_iter=1000)</pre></div></div></div><div class=\"sk-serial\"><div class=\"sk-item\"><div class=\"sk-estimator sk-toggleable\"><input class=\"sk-toggleable__control sk-hidden--visually\" id=\"sk-estimator-id-9\" type=\"checkbox\" ><label for=\"sk-estimator-id-9\" class=\"sk-toggleable__label sk-toggleable__label-arrow\">LogisticRegression</label><div class=\"sk-toggleable__content\"><pre>LogisticRegression(max_iter=1000)</pre></div></div></div></div></div></div></div></div></div></div>"
      ],
      "text/plain": [
       "RFE(estimator=LogisticRegression(max_iter=1000), n_features_to_select=3)"
      ]
     },
     "execution_count": 19,
     "metadata": {},
     "output_type": "execute_result"
    }
   ],
   "source": [
    "import pandas as pd\n",
    "import numpy as np\n",
    "from sklearn.linear_model import LogisticRegression\n",
    "from sklearn.feature_selection import RFE\n",
    "from sklearn.preprocessing import StandardScaler\n",
    "\n",
    "# Load the data\n",
    "health = pd.read_csv(\"data/dataR2.csv\")\n",
    "X = np.array(health.iloc[:,:-1])\n",
    "y = np.array(health.iloc[:,-1])\n",
    "\n",
    "# Standardize the data\n",
    "\"\"\"Standardize the data by uncommenting the line X = StandardScaler().fit_transform(X).\"\"\"\n",
    "X = StandardScaler().fit_transform(X)\n",
    "\n",
    "# Logistic regression model\n",
    "lr = LogisticRegression(max_iter=1000)\n",
    "\n",
    "\"\"\"Use sklearn to create an RFE object called rfe that chooses 3 features.\"\"\"\n",
    "# Recursive feature elimination\n",
    "\"\"\"Use the .fit() method on rfe to fit the model to X and y.\"\"\"\n",
    "rfe = RFE(lr, n_features_to_select=3)\n",
    "rfe.fit(X, y)"
   ]
  },
  {
   "cell_type": "markdown",
   "metadata": {},
   "source": [
    "## Evaluating the Result of Recursive Feature Elimination\n",
    "You can inspect the results of recursive feature elimination by looking at rfe.ranking_ and rfe.support_.\n",
    "\n",
    "rfe.ranking_ is an array that contains the rank of each feature. Here are the features from the fire dataset:\n",
    "\n",
    "['Temperature', 'RH', 'Ws', 'Rain', 'DMC', 'FWI']\n",
    "Here are the feature rankings after recursive feature elimination is done on the fire dataset.\n",
    "\n",
    "print(rfe.ranking_)\n",
    "[2 5 4 1 3 1]\n",
    "A 1 at a certain index indicates that recursive feature elimination kept the feature at the same index. In this example, the model kept the features at indices 3 and 5: Rain and FWI. The other numbers indicate at which step a feature was removed. The 5 (the highest rank in the array) at index 1 means that RH (the feature at index 1) was removed first. The 4 at index 2 means that Ws (the feature at index 2) was removed in the next step, and so on.\n",
    "\n",
    "rfe.support_ is an array with True and False values that indicate which features were chosen. Here’s an example of what this looks like, again using the fire dataset.\n",
    "\n",
    "print(rfe.support_)\n",
    "[False False False  True False  True]\n",
    "This array indicates that the features at indices 3 and 5 were chosen. The features at indices 0, 1, 2, and 4 were eliminated.\n",
    "\n",
    "If you have a list of feature names, you can use a list comprehension and rfe.support_ to get a list of chosen feature names.\n",
    "\n",
    "# features is a list of feature names\n",
    "# Get a list of features chosen by rfe\n",
    "rfe_features = [f for (f, support) in zip(features, rfe.support_) if support]\n",
    " \n",
    "print(rfe_features)\n",
    "['Rain ', 'FWI']\n",
    "You can use rfe.score(X, y) to check the accuracy of the model."
   ]
  },
  {
   "cell_type": "code",
   "execution_count": 21,
   "metadata": {},
   "outputs": [
    {
     "name": "stdout",
     "output_type": "stream",
     "text": [
      "0.7327586206896551\n"
     ]
    }
   ],
   "source": [
    "import pandas as pd\n",
    "from sklearn.linear_model import LogisticRegression\n",
    "from sklearn.feature_selection import RFE\n",
    "from sklearn.preprocessing import StandardScaler\n",
    "\n",
    "# Load the data\n",
    "health = pd.read_csv(\"data/dataR2.csv\")\n",
    "X = health.iloc[:,:-1]\n",
    "y = health.iloc[:,-1]\n",
    "\n",
    "\"\"\"Create a list called rfe_features that contains the names of the features chosen by recursive feature elimination.\"\"\"\n",
    "# Create a list of feature names\n",
    "feature_list = list(X.columns)\n",
    "\n",
    "# Standardize the data\n",
    "X = StandardScaler().fit_transform(X)\n",
    "\n",
    "# Logistic regression\n",
    "lr = LogisticRegression(max_iter=1000)\n",
    "\n",
    "# Recursive feature elimination\n",
    "rfe = RFE(estimator=lr, n_features_to_select=3)\n",
    "rfe.fit(X, y)\n",
    "\n",
    "# List of features chosen by recursive feature elimination\n",
    "rfe_features = [f for (f, support) in zip(feature_list, rfe.support_) if support]\n",
    "\n",
    "\"\"\"Print the accuracy of the model after doing recursive feature elimination. How does this compare to the accuracy of the original model?\"\"\"\n",
    "# Print the accuracy of the model with features chosen by recursive feature elimination\n",
    "print(rfe.score(X, y))\n"
   ]
  },
  {
   "cell_type": "code",
   "execution_count": null,
   "metadata": {},
   "outputs": [],
   "source": []
  },
  {
   "cell_type": "markdown",
   "metadata": {},
   "source": [
    "## Review\n",
    "Congratulations! You’ve learned about a few different wrapper methods. You’ve also learned how to implement them in Python and evaluate the results. Let’s recap what we covered.\n",
    "\n",
    "Wrapper methods for feature selection are algorithms that select features by evaluating the performance of a machine learning model on different subsets of features. Here are some advantages of wrapper methods.\n",
    "\n",
    "They can detect relationships between features that might be relevant to the machine learning model.\n",
    "Unlike filter methods, they are designed to choose features that are relevant to whatever machine learning model you are using.\n",
    "We covered four different greedy wrapper methods and implemented them using mlextend in Python.\n",
    "\n",
    "Sequential forward selection adds one feature at a time.\n",
    "Sequential backward selection removes one feature at a time.\n",
    "Sequential forward floating selection adds (and sometimes removes) one feature at a time.\n",
    "Sequential backward floating selection removes (and sometimes adds) one feature at a time.\n",
    "We also covered recursive feature elimination, which ranks features by importance and removes the least important feature at every step. We used the scikit-learn library to implement that algorithm and investigate the results.\n",
    "\n",
    "The forest fire data for this lesson were taken from the UCI Machine Learning Repository Faroudja ABID et al., Predicting Forest Fire in Algeria using Data Mining Techniques: Case Study of the Decision Tree Algorithms, International Conference on Advanced Intelligent Systems for Sustainable Development (AI2SD 2019) , 08 - 11 July , 2019, Marrakech, Morocco.\n",
    "\n",
    "The breast cancer data for this lesson were taken from the UCI Machine Learning Repository. [Patricio, 2018] Patrício, M., Pereira, J., Crisóstomo, J., Matafome, P., Gomes, M., Seiça, R., & Caramelo, F. (2018). Using Resistin, glucose, age and BMI to predict the presence of breast cancer. BMC Cancer, 18(1)."
   ]
  },
  {
   "cell_type": "markdown",
   "metadata": {},
   "source": []
  }
 ],
 "metadata": {
  "kernelspec": {
   "display_name": "Python 3.10.4 ('myenv')",
   "language": "python",
   "name": "python3"
  },
  "language_info": {
   "codemirror_mode": {
    "name": "ipython",
    "version": 3
   },
   "file_extension": ".py",
   "mimetype": "text/x-python",
   "name": "python",
   "nbconvert_exporter": "python",
   "pygments_lexer": "ipython3",
   "version": "3.10.4"
  },
  "orig_nbformat": 4,
  "vscode": {
   "interpreter": {
    "hash": "8810d01d3690a4af1432156f3833ae05339dfbc619bed7f8ee09aae71d8076a5"
   }
  }
 },
 "nbformat": 4,
 "nbformat_minor": 2
}
